{
 "cells": [
  {
   "cell_type": "code",
   "execution_count": 1,
   "id": "b16e33f6",
   "metadata": {},
   "outputs": [],
   "source": [
    "import uuid\n",
    "import os\n",
    "import time\n",
    "\n",
    "import cv2 as cv\n",
    "import numpy as np"
   ]
  },
  {
   "cell_type": "code",
   "execution_count": 2,
   "id": "d2ba87ce",
   "metadata": {},
   "outputs": [],
   "source": [
    "IMAGES_PATH = os.path.join('data', 'images')\n",
    "labels = ['sitting', 'not_sitting']\n",
    "number_imgs = 20"
   ]
  },
  {
   "cell_type": "code",
   "execution_count": 4,
   "id": "e78c0672",
   "metadata": {},
   "outputs": [
    {
     "name": "stderr",
     "output_type": "stream",
     "text": [
      "2023-02-17 10:10:20.645 Python[41453:2103776] ApplePersistenceIgnoreState: Existing state will not be touched. New state will be written to /var/folders/8k/tv3j8ck95x74d_clz0xb82hh0000gn/T/org.python.python.savedState\n"
     ]
    }
   ],
   "source": [
    "cap = cv.VideoCapture(0)\n",
    "\n",
    "while cap.isOpened():\n",
    "    ret, frame = cap.read()\n",
    "    \n",
    "    cv.imshow('Webcam capture', frame)\n",
    "    \n",
    "    if cv.waitKey(10) & 0XFF == ord('q'):\n",
    "        break\n",
    "\n",
    "cap.release()\n",
    "cv.destroyAllWindows()"
   ]
  },
  {
   "cell_type": "code",
   "execution_count": 3,
   "id": "fc587033",
   "metadata": {},
   "outputs": [
    {
     "name": "stdout",
     "output_type": "stream",
     "text": [
      "Collecting images for sitting\n",
      "Collecting images for sitting, image number 0\n"
     ]
    },
    {
     "name": "stderr",
     "output_type": "stream",
     "text": [
      "2023-02-17 10:19:50.356 Python[41529:2109345] ApplePersistenceIgnoreState: Existing state will not be touched. New state will be written to /var/folders/8k/tv3j8ck95x74d_clz0xb82hh0000gn/T/org.python.python.savedState\n"
     ]
    },
    {
     "name": "stdout",
     "output_type": "stream",
     "text": [
      "Collecting images for sitting, image number 1\n",
      "Collecting images for sitting, image number 2\n",
      "Collecting images for sitting, image number 3\n",
      "Collecting images for sitting, image number 4\n",
      "Collecting images for sitting, image number 5\n",
      "Collecting images for sitting, image number 6\n",
      "Collecting images for sitting, image number 7\n",
      "Collecting images for sitting, image number 8\n",
      "Collecting images for sitting, image number 9\n",
      "Collecting images for sitting, image number 10\n",
      "Collecting images for sitting, image number 11\n",
      "Collecting images for sitting, image number 12\n",
      "Collecting images for sitting, image number 13\n",
      "Collecting images for sitting, image number 14\n",
      "Collecting images for sitting, image number 15\n",
      "Collecting images for sitting, image number 16\n",
      "Collecting images for sitting, image number 17\n",
      "Collecting images for sitting, image number 18\n",
      "Collecting images for sitting, image number 19\n"
     ]
    }
   ],
   "source": [
    "cap = cv.VideoCapture(0)\n",
    "\n",
    "label = 'sitting'\n",
    "\n",
    "print('Collecting images for {}'.format(label))\n",
    "time.sleep(5)\n",
    "\n",
    "for img_num in range(number_imgs):\n",
    "    print('Collecting images for {}, image number {}'.format(label, img_num))\n",
    "\n",
    "    ret, frame = cap.read()\n",
    "\n",
    "    imgname = os.path.join(IMAGES_PATH, label + '.' + str(uuid.uuid4()) + '.jpg')\n",
    "\n",
    "    cv.imwrite(imgname, frame)\n",
    "\n",
    "    cv.imshow('Image Collection', frame)\n",
    "\n",
    "    time.sleep(2)\n",
    "\n",
    "    if cv.waitKey(10) & 0XFF == ord('q'):\n",
    "        break\n",
    "\n",
    "cap.release()\n",
    "cv.destroyAllWindows()"
   ]
  },
  {
   "cell_type": "code",
   "execution_count": 4,
   "id": "f5245d42",
   "metadata": {},
   "outputs": [
    {
     "name": "stdout",
     "output_type": "stream",
     "text": [
      "Collecting images for not_sitting\n",
      "Collecting images for not_sitting, image number 0\n",
      "Collecting images for not_sitting, image number 1\n",
      "Collecting images for not_sitting, image number 2\n",
      "Collecting images for not_sitting, image number 3\n",
      "Collecting images for not_sitting, image number 4\n",
      "Collecting images for not_sitting, image number 5\n",
      "Collecting images for not_sitting, image number 6\n",
      "Collecting images for not_sitting, image number 7\n",
      "Collecting images for not_sitting, image number 8\n",
      "Collecting images for not_sitting, image number 9\n",
      "Collecting images for not_sitting, image number 10\n",
      "Collecting images for not_sitting, image number 11\n",
      "Collecting images for not_sitting, image number 12\n",
      "Collecting images for not_sitting, image number 13\n",
      "Collecting images for not_sitting, image number 14\n",
      "Collecting images for not_sitting, image number 15\n",
      "Collecting images for not_sitting, image number 16\n",
      "Collecting images for not_sitting, image number 17\n",
      "Collecting images for not_sitting, image number 18\n",
      "Collecting images for not_sitting, image number 19\n"
     ]
    }
   ],
   "source": [
    "cap = cv.VideoCapture(0)\n",
    "\n",
    "label = 'not_sitting'\n",
    "\n",
    "print('Collecting images for {}'.format(label))\n",
    "time.sleep(5)\n",
    "\n",
    "for img_num in range(number_imgs):\n",
    "    print('Collecting images for {}, image number {}'.format(label, img_num))\n",
    "\n",
    "    ret, frame = cap.read()\n",
    "\n",
    "    imgname = os.path.join(IMAGES_PATH, label + '.' + str(uuid.uuid4()) + '.jpg')\n",
    "\n",
    "    cv.imwrite(imgname, frame)\n",
    "\n",
    "    cv.imshow('Image Collection', frame)\n",
    "\n",
    "    time.sleep(2)\n",
    "\n",
    "    if cv.waitKey(10) & 0XFF == ord('q'):\n",
    "        break\n",
    "\n",
    "cap.release()\n",
    "cv.destroyAllWindows()"
   ]
  }
 ],
 "metadata": {
  "kernelspec": {
   "display_name": "Python 3 (ipykernel)",
   "language": "python",
   "name": "python3"
  },
  "language_info": {
   "codemirror_mode": {
    "name": "ipython",
    "version": 3
   },
   "file_extension": ".py",
   "mimetype": "text/x-python",
   "name": "python",
   "nbconvert_exporter": "python",
   "pygments_lexer": "ipython3",
   "version": "3.9.16"
  }
 },
 "nbformat": 4,
 "nbformat_minor": 5
}
