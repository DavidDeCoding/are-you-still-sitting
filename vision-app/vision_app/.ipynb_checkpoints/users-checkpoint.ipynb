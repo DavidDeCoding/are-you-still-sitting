{
 "cells": [
  {
   "cell_type": "code",
   "execution_count": 1,
   "id": "e70796d0",
   "metadata": {},
   "outputs": [],
   "source": [
    "import requests\n",
    "\n",
    "base_endpoint = \"\"\n",
    "\n",
    "username = \"\"\n",
    "password = \"\"\n",
    "\n",
    "headers = {\n",
    "    \"Content-Type\": \"application/json; charset=utf-8\"\n",
    "}\n"
   ]
  },
  {
   "cell_type": "code",
   "execution_count": 3,
   "id": "97daa9d4",
   "metadata": {},
   "outputs": [
    {
     "name": "stdout",
     "output_type": "stream",
     "text": [
      "Failed\n"
     ]
    }
   ],
   "source": [
    "endpoint = f'{base_endpoint}/signup'\n",
    "\n",
    "payload = {\n",
    "    \"username\": username,\n",
    "    \"password\": password,\n",
    "    \"email\": username\n",
    "}\n",
    "\n",
    "response = requests.post(endpoint, headers=headers, json=payload)\n",
    "\n",
    "print(response.text)"
   ]
  },
  {
   "cell_type": "code",
   "execution_count": 4,
   "id": "8ab19b30",
   "metadata": {},
   "outputs": [
    {
     "name": "stdout",
     "output_type": "stream",
     "text": [
      "Success\n"
     ]
    }
   ],
   "source": [
    "endpoint = f'{base_endpoint}/confirm'\n",
    "\n",
    "payload = {\n",
    "    \"username\": \"daviddecoding@gmail.com\",\n",
    "    \"confirmation_code\": \"164298\"\n",
    "}\n",
    "\n",
    "response = requests.post(endpoint, headers=headers, json=payload)\n",
    "\n",
    "print(response.text)"
   ]
  }
 ],
 "metadata": {
  "kernelspec": {
   "display_name": "Python 3 (ipykernel)",
   "language": "python",
   "name": "python3"
  },
  "language_info": {
   "codemirror_mode": {
    "name": "ipython",
    "version": 3
   },
   "file_extension": ".py",
   "mimetype": "text/x-python",
   "name": "python",
   "nbconvert_exporter": "python",
   "pygments_lexer": "ipython3",
   "version": "3.9.16"
  }
 },
 "nbformat": 4,
 "nbformat_minor": 5
}
